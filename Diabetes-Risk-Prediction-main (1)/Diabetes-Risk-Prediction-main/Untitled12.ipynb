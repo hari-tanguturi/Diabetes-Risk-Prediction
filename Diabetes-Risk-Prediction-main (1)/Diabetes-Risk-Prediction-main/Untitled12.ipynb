{
  "nbformat": 4,
  "nbformat_minor": 0,
  "metadata": {
    "colab": {
      "provenance": [],
      "authorship_tag": "ABX9TyOCHD7Me6ashj4Sq4yRPyP4",
      "include_colab_link": true
    },
    "kernelspec": {
      "name": "python3",
      "display_name": "Python 3"
    },
    "language_info": {
      "name": "python"
    }
  },
  "cells": [
    {
      "cell_type": "markdown",
      "metadata": {
        "id": "view-in-github",
        "colab_type": "text"
      },
      "source": [
        "<a href=\"https://colab.research.google.com/github/Jeelanihansha/Diabetes-Risk-Prediction/blob/main/Untitled12.ipynb\" target=\"_parent\"><img src=\"https://colab.research.google.com/assets/colab-badge.svg\" alt=\"Open In Colab\"/></a>"
      ]
    },
    {
      "cell_type": "code",
      "execution_count": 1,
      "metadata": {
        "colab": {
          "base_uri": "https://localhost:8080/"
        },
        "id": "iVkNoobTnHL_",
        "outputId": "f4b70837-1844-4746-b3f6-cdcc5ee991d1"
      },
      "outputs": [
        {
          "output_type": "stream",
          "name": "stdout",
          "text": [
            "Decision Tree Accuracy: 0.9711538461538461\n",
            "              precision    recall  f1-score   support\n",
            "\n",
            "    Negative       0.92      1.00      0.96        33\n",
            "    Positive       1.00      0.96      0.98        71\n",
            "\n",
            "    accuracy                           0.97       104\n",
            "   macro avg       0.96      0.98      0.97       104\n",
            "weighted avg       0.97      0.97      0.97       104\n",
            "\n",
            "Random Forest Accuracy: 0.9903846153846154\n",
            "              precision    recall  f1-score   support\n",
            "\n",
            "    Negative       0.97      1.00      0.99        33\n",
            "    Positive       1.00      0.99      0.99        71\n",
            "\n",
            "    accuracy                           0.99       104\n",
            "   macro avg       0.99      0.99      0.99       104\n",
            "weighted avg       0.99      0.99      0.99       104\n",
            "\n"
          ]
        }
      ],
      "source": [
        "import pandas as pd\n",
        "from sklearn.model_selection import train_test_split\n",
        "from sklearn.tree import DecisionTreeClassifier\n",
        "from sklearn.ensemble import RandomForestClassifier\n",
        "from sklearn.preprocessing import LabelEncoder, OneHotEncoder\n",
        "from sklearn.metrics import accuracy_score, classification_report\n",
        "\n",
        "# Load the dataset from a CSV file\n",
        "data = pd.read_csv('diabetes_data_upload.csv')\n",
        "\n",
        "# Encode binary categorical columns\n",
        "binary_categorical_cols = ['Polyuria', 'Polydipsia', 'sudden weight loss', 'weakness', 'Polyphagia', 'Genital thrush', 'visual blurring', 'Itching', 'Irritability', 'delayed healing', 'partial paresis', 'muscle stiffness', 'Alopecia', 'Obesity']\n",
        "label_encoder = LabelEncoder()\n",
        "for col in binary_categorical_cols:\n",
        "    data[col] = label_encoder.fit_transform(data[col])\n",
        "\n",
        "# Encode 'Gender' using one-hot encoding\n",
        "data = pd.get_dummies(data, columns=['Gender'], drop_first=True)\n",
        "\n",
        "# Split the data into features (X) and target (y)\n",
        "X = data.drop('class', axis=1)\n",
        "y = data['class']\n",
        "\n",
        "# Split the dataset into a training set and a test set\n",
        "X_train, X_test, y_train, y_test = train_test_split(X, y, test_size=0.2, random_state=42)\n",
        "\n",
        "# Decision Tree Classifier\n",
        "decision_tree = DecisionTreeClassifier(random_state=42)\n",
        "decision_tree.fit(X_train, y_train)\n",
        "\n",
        "# Make predictions on the test set\n",
        "y_pred_dt = decision_tree.predict(X_test)\n",
        "\n",
        "# Evaluate the Decision Tree model\n",
        "accuracy_dt = accuracy_score(y_test, y_pred_dt)\n",
        "print(\"Decision Tree Accuracy:\", accuracy_dt)\n",
        "print(classification_report(y_test, y_pred_dt))\n",
        "\n",
        "# Random Forest Classifier\n",
        "random_forest = RandomForestClassifier(random_state=42)\n",
        "random_forest.fit(X_train, y_train)\n",
        "\n",
        "# Make predictions on the test set\n",
        "y_pred_rf = random_forest.predict(X_test)\n",
        "\n",
        "# Evaluate the Random Forest model\n",
        "accuracy_rf = accuracy_score(y_test, y_pred_rf)\n",
        "print(\"Random Forest Accuracy:\", accuracy_rf)\n",
        "print(classification_report(y_test, y_pred_rf))"
      ]
    }
  ]
}